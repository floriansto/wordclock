{
 "cells": [
  {
   "cell_type": "markdown",
   "metadata": {},
   "source": [
    "# Current measuring for WS2812b LED strip\n",
    "\n",
    "# Measuring method\n",
    "\n",
    "* All the setup of the ledstrip was done in the `setup()` method using the `Adafruit NeoPixel` library.\n",
    "* As microcontroller an Wemos D1 mini with an ESP8266 is used\n",
    "* The led stip is powered by an external power source to prevent too high load on the 5V pin of the board\n",
    "\n",
    "## Remarks\n",
    "Each led on the strip consists of three smaller leds of the colors red, green and blue. This allows full rbg colors for each led on the strip.\n",
    "This also means that at full white the drawn current should be three times as high as with only red, green or blue active."
   ]
  },
  {
   "cell_type": "markdown",
   "metadata": {},
   "source": [
    "# Linear regression\n",
    "The following function is used to do a linear regression between the amount of active leds on the strip and the measured current"
   ]
  },
  {
   "cell_type": "code",
   "execution_count": 2,
   "metadata": {},
   "outputs": [],
   "source": [
    "import matplotlib.pyplot as plt\n",
    "import numpy as np\n",
    "from scipy import stats\n",
    "\n",
    "def led_current_regression(data):\n",
    "    print(\"Regression results\")\n",
    "    print(\"==================\")\n",
    "    for key, val in data.items():\n",
    "        x = [int(i) for i in val]\n",
    "        y = [val[i] for i in val]\n",
    "        slope, intercept, _, _, std_err = stats.linregress(x, y)\n",
    "        print(\"Color: {}\".format(key))\n",
    "        print(\"  Slope: {}\".format(slope))\n",
    "        print(\"  Value at x=0: {}\".format(intercept))\n",
    "        print(\"  Standard error: {}\".format(std_err))"
   ]
  },
  {
   "cell_type": "markdown",
   "metadata": {},
   "source": [
    "# Result at full brightness"
   ]
  },
  {
   "cell_type": "code",
   "execution_count": 3,
   "metadata": {},
   "outputs": [
    {
     "name": "stdout",
     "output_type": "stream",
     "text": [
      "Regression results\n",
      "==================\n",
      "Color: white\n",
      "  Slope: 33.25257731958763\n",
      "  Value at x=0: 11.855670103092791\n",
      "  Standard error: 0.05381601293269349\n",
      "Color: yellow\n",
      "  Slope: 22.18762886597938\n",
      "  Value at x=0: 11.392783505154654\n",
      "  Standard error: 0.05855452297427771\n",
      "Color: red\n",
      "  Slope: 11.150515463917525\n",
      "  Value at x=0: 11.321134020618558\n",
      "  Standard error: 0.008018736695300637\n",
      "Color: green\n",
      "  Slope: 11.206701030927837\n",
      "  Value at x=0: 11.374742268041231\n",
      "  Standard error: 0.018041237113210873\n",
      "Color: blue\n",
      "  Slope: 11.185051546391753\n",
      "  Value at x=0: 11.437113402061854\n",
      "  Standard error: 0.015369125273990767\n"
     ]
    }
   ],
   "source": [
    "\n",
    "current_full_brightness = {\"white\": {\"1\": 45, \"5\": 178, \"10\": 345, \"14\": 477},\n",
    "                           \"yellow\": {\"1\": 33.2, \"5\": 123, \"10\": 233, \"14\": 322},\n",
    "                           \"red\": {\"1\": 22.5, \"5\": 67, \"10\": 122.9, \"14\": 167.4},\n",
    "                           \"green\": {\"1\": 22.7, \"5\": 67.3, \"10\": 123.3, \"14\": 168.4},\n",
    "                           \"blue\": {\"1\": 22.7, \"5\": 67.2, \"10\": 123.4, \"14\": 168},\n",
    "}\n",
    "                           \n",
    "led_current_regression(current_full_brightness)"
   ]
  },
  {
   "cell_type": "markdown",
   "metadata": {},
   "source": [
    "\n",
    "# Summary\n",
    "\n",
    "It can be seen from the linear regression, that the drawn current rises linearly according to the amount of active leds on the strip.\n",
    "For white (all three colors active), the drawn current is also three times as high as for a single color.\n",
    "\n",
    "This means one color of each led at full brightness uses around **11 mA**. When using rgb colors the max. drawn current for a led on the strip rises to **33 mA** for white color."
   ]
  },
  {
   "cell_type": "markdown",
   "metadata": {},
   "source": [
    "# Result at half brightness"
   ]
  },
  {
   "cell_type": "code",
   "execution_count": 4,
   "metadata": {},
   "outputs": [
    {
     "name": "stdout",
     "output_type": "stream",
     "text": [
      "Regression results\n",
      "==================\n",
      "Color: white\n",
      "  Slope: 16.559278350515463\n",
      "  Value at x=0: 11.380412371134014\n",
      "  Standard error: 0.056834426029797325\n",
      "Color: red\n",
      "  Slope: 5.561340206185568\n",
      "  Value at x=0: 10.714948453608237\n",
      "  Standard error: 0.01077553863934921\n",
      "Color: green\n",
      "  Slope: 5.590721649484536\n",
      "  Value at x=0: 10.71958762886598\n",
      "  Standard error: 0.0029159042524336026\n",
      "Color: blue\n",
      "  Slope: 5.5865979381443305\n",
      "  Value at x=0: 10.75051546391753\n",
      "  Standard error: 0.008051803789330195\n"
     ]
    }
   ],
   "source": [
    "\n",
    "current_half_brightness = {\"white\": {\"1\": 27.5, \"5\": 94.8, \"10\": 177, \"14\": 243},\n",
    "                           \"red\": {\"1\": 16.2, \"5\": 38.6, \"10\": 66.4, \"14\": 88.5},\n",
    "                           \"green\": {\"1\": 16.3, \"5\": 38.7, \"10\": 66.6, \"14\": 89},\n",
    "                           \"blue\": {\"1\": 16.3, \"5\": 38.7, \"10\": 66.7, \"14\": 88.9},\n",
    "}\n",
    "\n",
    "led_current_regression(current_half_brightness)"
   ]
  },
  {
   "cell_type": "markdown",
   "metadata": {},
   "source": [
    "# Summary\n",
    "\n",
    "Compared to the results at full brightness, the leds use almost exactly half of the current when reducing the brightness by 50%."
   ]
  }
 ],
 "metadata": {
  "interpreter": {
   "hash": "767d51c1340bd893661ea55ea3124f6de3c7a262a8b4abca0554b478b1e2ff90"
  },
  "kernelspec": {
   "display_name": "Python 3.10.3 64-bit",
   "language": "python",
   "name": "python3"
  },
  "language_info": {
   "codemirror_mode": {
    "name": "ipython",
    "version": 3
   },
   "file_extension": ".py",
   "mimetype": "text/x-python",
   "name": "python",
   "nbconvert_exporter": "python",
   "pygments_lexer": "ipython3",
   "version": "3.10.3"
  },
  "orig_nbformat": 4
 },
 "nbformat": 4,
 "nbformat_minor": 2
}
